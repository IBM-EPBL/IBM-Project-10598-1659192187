{
 "cells": [
  {
   "cell_type": "code",
   "execution_count": null,
   "metadata": {},
   "outputs": [],
   "source": [
    "Anaconda Prompt (anaconda3) - python app.py\n",
    "-\n",
    "-82.42778439053633 151.28315067283017\n",
    "C:\\Users\\HP\\Desktop\\Skin Disease-Flask\\Data\\Source_Images\\Test_Images\\melanoma.png (416, 416, 3)\n",
    "Found 1 boxes for img\n",
    "melanoma 0.66 (332, 176) (605, 357) Time spent: 0.494sec\n",
    "53.799554348389734 11.028469255424909\n",
    "C:\\Users\\HP\\Desktop\\Skin Disease-Flask\\Data\\Source_Images\\Test_Images\\psoriasis (360).jpg (416, 416, 3)\n",
    "Found 3 boxes for img\n",
    "psoriasis 0.36 (212, 161) (275, 194) psoriasis 0.39 (278, 24) (351, 68) psoriasis 0.91 (366, 58) (540, 210) Time spent: 0.484sec\n",
    "-81.9519194400713 -149.02955669055646\n",
    "C:\\Users\\HP\\Desktop\\Skin Disease-Flask\\Data\\Source_Images\\Test_Images\\psoriasis.jpg (416, 416, 3)\n",
    "Found 3 boxes for img\n",
    "psoriasis 0.30 (625, 382) (795, 566) psoriasis 0.51 (646, 222) (785, 543) psoriasis 0.65 (359, 374) (507, 555) Time spent: 0.489sec\n",
    "26.963081102196455 -99.55018573589037\n",
    "C:\\Users\\HP\\Desktop\\Skin Disease-Flask\\Data\\Source_Images\\Test_Images\\Rosacea (1).jpg (416, 416, 3)\n",
    "Found boxes for img\n",
    "Time spent: 0.485sec\n",
    "-73.86752869595814 -93.24897806603805 C:\\Users\\HP\\Desktop\\Skin Disease-Flask\\Data\\Source_Images\\Test_Images\\rosacea (9).jpg (416, 416, 3)\n",
    "Found 1 boxes for img\n",
    "Rosacea 0.33 (71, 31) (266, 141)\n",
    "Time spent: 0.509sec\n",
    "-48.93426568968688 -107.39183365769665 C:\\Users\\HP\\Desktop\\Skin Disease-Flask\\Data\\Source_Images\\Test_Images\\test.jpg\n",
    "(416, 416, 3)\n",
    "Found 2 boxes for img\n",
    "Rosacea 0.36 (273, 139) (624, 510)\n",
    "Rosacea 0.57 (275, 189) (506, 365) Time spent: 0.482sec\n",
    "-11.337269890903258 -46.337921433887544\n",
    "Processed 7 images in 4.7sec - 1.5FPS\n",
    "10408 11:04:05.471124 16932_internal.py:225] 127.0.0.1\n",
    "[08/Apr/2022 11:04:05] \"POST /result HTTP/1.1\" 200 -\n",
    "ENG\n",
    "IN\n",
    "X\n",
    "11:04\n",
    "08-04-2022"
   ]
  }
 ],
 "metadata": {
  "language_info": {
   "name": "python"
  },
  "orig_nbformat": 4
 },
 "nbformat": 4,
 "nbformat_minor": 2
}
